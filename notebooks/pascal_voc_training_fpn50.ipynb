{
  "nbformat": 4,
  "nbformat_minor": 0,
  "metadata": {
    "colab": {
      "name": "pascal_voc_training_fpn50.ipynb",
      "provenance": [],
      "collapsed_sections": []
    },
    "kernelspec": {
      "name": "python3",
      "display_name": "Python 3"
    },
    "accelerator": "GPU"
  },
  "cells": [
    {
      "cell_type": "code",
      "metadata": {
        "id": "1jVKNjhdLFUQ",
        "colab_type": "code",
        "colab": {}
      },
      "source": [
        "!pip install --upgrade git+https://github.com/EmGarr/od.git\n",
        "# Useful for tensorboard\n",
        "!pip install --upgrade grpcio\n",
        "!pip install --upgrade tensorflow-gpu"
      ],
      "execution_count": 0,
      "outputs": []
    },
    {
      "cell_type": "code",
      "metadata": {
        "id": "CET-72i5EmKn",
        "colab_type": "code",
        "colab": {}
      },
      "source": [
        "#%tensorflow_version 2.x\n",
        "import tensorflow as tf\n",
        "device_name = tf.test.gpu_device_name()\n",
        "if device_name != '/device:GPU:0':\n",
        "  raise SystemError('GPU device not found')\n",
        "print('Found GPU at: {}'.format(device_name))"
      ],
      "execution_count": 0,
      "outputs": []
    },
    {
      "cell_type": "markdown",
      "metadata": {
        "id": "Ews_7qF9OBi8",
        "colab_type": "text"
      },
      "source": [
        "# Download Pascal VOC\n",
        "\n",
        "Download and preprocess Pascal VOC to the following format (required by od networks):\n",
        "\n",
        "```python\n",
        "dataset = {\n",
        "        'images' : A tensor of float32 and shape [1, height, widht, 3],\n",
        "        'images_info': A tensor of float32 and shape [1, 2] ,\n",
        "        'bbox': A tensor of float32 and shape [1, num_boxes, 4],\n",
        "        'labels': A tensor of int32 and shape [1, num_boxes],\n",
        "        'num_boxes': A tensor of int32 and shape [1, 1],\n",
        "        'weights': A tensor of float32 and shape [1, num_boxes]\n",
        "    }\n",
        "\n",
        "```"
      ]
    },
    {
      "cell_type": "code",
      "metadata": {
        "id": "1cC2k8osNGFw",
        "colab_type": "code",
        "colab": {}
      },
      "source": [
        "import tensorflow as tf\n",
        "import tensorflow_datasets as tfds\n",
        "from od.dataset.preprocessing import preprocess, expand_dims_for_single_batch\n",
        "\n",
        "ds_train, ds_info = tfds.load(name=\"voc\", split=\"train\", shuffle_files=True, with_info=True)\n",
        "ds_train = ds_train.map(preprocess, num_parallel_calls=tf.data.experimental.AUTOTUNE)\n",
        "ds_train = ds_train.map(expand_dims_for_single_batch, num_parallel_calls=tf.data.experimental.AUTOTUNE)\n",
        "ds_train = ds_train.prefetch(tf.data.experimental.AUTOTUNE)\n",
        "\n",
        "ds_test = tfds.load(name=\"voc\", split=\"test\", shuffle_files=False)\n",
        "ds_test = ds_test.map(preprocess, num_parallel_calls=tf.data.experimental.AUTOTUNE)\n",
        "ds_test = ds_test.map(expand_dims_for_single_batch, num_parallel_calls=tf.data.experimental.AUTOTUNE)\n",
        "ds_test = ds_test.prefetch(tf.data.experimental.AUTOTUNE)"
      ],
      "execution_count": 0,
      "outputs": []
    },
    {
      "cell_type": "code",
      "metadata": {
        "id": "Fip6g2i-B3pi",
        "colab_type": "code",
        "colab": {}
      },
      "source": [
        "ds_info"
      ],
      "execution_count": 0,
      "outputs": []
    },
    {
      "cell_type": "markdown",
      "metadata": {
        "id": "9tt34CM6P-gr",
        "colab_type": "text"
      },
      "source": [
        "# Load and train the network\n"
      ]
    },
    {
      "cell_type": "code",
      "metadata": {
        "id": "r4o3t4PCLagO",
        "colab_type": "code",
        "colab": {}
      },
      "source": [
        "from od.model.faster_rcnn import build_fpn_resnet50_faster_rcnn\n",
        "from od.core.standard_fields import BoxField\n",
        "from od.core.learning_rate_schedule import WarmupLearningRateScheduler\n",
        "from tensorflow.keras.callbacks import TensorBoard, ModelCheckpoint\n",
        "from tensorflow.keras.mixed_precision import experimental as mixed_precision\n",
        "\n",
        "# Number of classes of Pascal Voc\n",
        "num_classes = 20\n",
        "batch_size = 1\n",
        "\n",
        "model_faster_rcnn = build_fpn_resnet50_faster_rcnn(num_classes, batch_size)\n",
        "base_lr = 0.02\n",
        "optimizer = tf.keras.optimizers.SGD(learning_rate=base_lr)\n",
        "model_faster_rcnn.compile(optimizer=optimizer, loss=None)\n",
        "callbacks = [WarmupLearningRateScheduler(base_lr, 1, epochs=[8, 10], init_lr=0.0001), TensorBoard(), ModelCheckpoint('.checkpoints/')]\n",
        "\n",
        "model_faster_rcnn.fit(ds_train, validation_data=ds_test, epochs=11, callbacks=callbacks)"
      ],
      "execution_count": 0,
      "outputs": []
    },
    {
      "cell_type": "markdown",
      "metadata": {
        "id": "CD14aaUMEudZ",
        "colab_type": "text"
      },
      "source": [
        "# Tensorboard"
      ]
    },
    {
      "cell_type": "code",
      "metadata": {
        "id": "Ec4-mdjcR_wy",
        "colab_type": "code",
        "colab": {}
      },
      "source": [
        "# Load TENSORBOARD\n",
        "%load_ext tensorboard\n",
        "# Start TENSORBOARD\n",
        "%tensorboard --logdir logs"
      ],
      "execution_count": 0,
      "outputs": []
    }
  ]
}