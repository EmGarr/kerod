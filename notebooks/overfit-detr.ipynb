{
 "cells": [
  {
   "cell_type": "markdown",
   "metadata": {},
   "source": [
    "# Object Detection with DETR"
   ]
  },
  {
   "cell_type": "code",
   "execution_count": null,
   "metadata": {},
   "outputs": [],
   "source": [
    "!pip install --upgrade git+https://github.com/EmGarr/kerod.git"
   ]
  },
  {
   "cell_type": "code",
   "execution_count": null,
   "metadata": {},
   "outputs": [],
   "source": [
    "%load_ext autoreload\n",
    "\n",
    "%autoreload 2"
   ]
  },
  {
   "cell_type": "code",
   "execution_count": null,
   "metadata": {
    "colab": {},
    "colab_type": "code",
    "id": "1cC2k8osNGFw"
   },
   "outputs": [],
   "source": [
    "import tensorflow as tf\n",
    "import tensorflow_datasets as tfds\n",
    "from kerod.core.standard_fields import BoxField, DatasetField\n",
    "from kerod.dataset.preprocessing import preprocess_coco_example\n",
    "import functools\n",
    "\n",
    "batch_size = 2\n",
    "\n",
    "padded_shape = ({\n",
    "  DatasetField.IMAGES: [None, None, 3],\n",
    "  DatasetField.IMAGES_INFO: [2],\n",
    "  DatasetField.IMAGES_PMASK: [None, None],\n",
    "\n",
    "},\n",
    "{\n",
    "  BoxField.BOXES: [None, 4],\n",
    "  BoxField.LABELS: [None],\n",
    "  BoxField.NUM_BOXES: [1],\n",
    "  BoxField.WEIGHTS: [None]\n",
    "})\n",
    "\n",
    "ds_train, ds_info = tfds.load(name=\"coco/2017\", split=\"train\", shuffle_files=True, with_info=True)\n",
    "ds_train = ds_train.map(functools.partial(preprocess_coco_example, bgr=True, padded_mask=True),\n",
    "                        num_parallel_calls=tf.data.experimental.AUTOTUNE)\n",
    "# Filter example with no boxes after preprocessing\n",
    "ds_train =  ds_train.filter(lambda x, y: tf.shape(y[BoxField.BOXES])[0] > 1)\n",
    "ds_train =  ds_train.padded_batch(batch_size, padded_shape)\n",
    "ds_train = ds_train.prefetch(tf.data.experimental.AUTOTUNE)\n",
    "\n",
    "ds_val = tfds.load(name=\"coco/2017\", split=\"validation\", shuffle_files=False)\n",
    "ds_val = ds_val.map(functools.partial(preprocess_coco_example, horizontal_flip=False, bgr=True, padded_mask=True),\n",
    "                      num_parallel_calls=tf.data.experimental.AUTOTUNE)\n",
    "# Filter example with no boxes after preprocessing\n",
    "ds_val =  ds_val.filter(lambda x, y: tf.shape(y[BoxField.BOXES])[0] > 1)\n",
    "ds_val =  ds_val.padded_batch(batch_size, padded_shape)\n",
    "ds_val = ds_val.prefetch(tf.data.experimental.AUTOTUNE)"
   ]
  },
  {
   "cell_type": "markdown",
   "metadata": {},
   "source": [
    "## Create an iterator on a small subset of the dataset"
   ]
  },
  {
   "cell_type": "code",
   "execution_count": null,
   "metadata": {},
   "outputs": [],
   "source": [
    "num_elem = 1\n",
    "# Create an iterator to feed to tensorflow dataset\n",
    "train_tf = ([x for x in ds_train.take(num_elem)])\n",
    "ds_train = tf.data.Dataset.from_generator(\n",
    "    lambda: train_tf,\n",
    "    ({\n",
    "        \"images\": tf.float32,\n",
    "        \"images_information\": tf.float32,\n",
    "        \"images_padding_mask\": tf.int8\n",
    "    }, {\n",
    "        \"bbox\": tf.float32,\n",
    "        \"label\": tf.int32,\n",
    "        \"num_boxes\": tf.int32,\n",
    "        \"weights\": tf.float32\n",
    "    }),\n",
    "    output_shapes=(\n",
    "        {\n",
    "            \"images\": tf.TensorShape((batch_size, None, None, 3)),\n",
    "            \"images_information\": tf.TensorShape((batch_size, 2)),\n",
    "            \"images_padding_mask\": tf.TensorShape((batch_size, None, None)),\n",
    "        },\n",
    "        {\n",
    "            \"bbox\": tf.TensorShape((batch_size, None, 4)),\n",
    "            \"label\": tf.TensorShape((batch_size, None)),\n",
    "            \"num_boxes\": tf.TensorShape((batch_size, 1)),\n",
    "            \"weights\": tf.TensorShape((batch_size, None))\n",
    "        },\n",
    "    ),\n",
    ")\n"
   ]
  },
  {
   "cell_type": "code",
   "execution_count": null,
   "metadata": {
    "scrolled": true
   },
   "outputs": [],
   "source": [
    "ds_info"
   ]
  },
  {
   "cell_type": "markdown",
   "metadata": {},
   "source": [
    "## Visualize example"
   ]
  },
  {
   "cell_type": "code",
   "execution_count": null,
   "metadata": {},
   "outputs": [],
   "source": [
    "from kerod.utils.drawing import BoxDrawer, draw_bounding_boxes\n",
    "    \n",
    "for i, (features, gt) in enumerate(ds_train):\n",
    "    draw_bounding_boxes(features['images'][0],\n",
    "                gt['bbox'][0],\n",
    "                resize=False)\n",
    "    if i==10:\n",
    "        break"
   ]
  },
  {
   "cell_type": "markdown",
   "metadata": {
    "colab_type": "text",
    "id": "9tt34CM6P-gr"
   },
   "source": [
    "# Load and train the network\n",
    "\n",
    "Perfom an overfit"
   ]
  },
  {
   "cell_type": "code",
   "execution_count": null,
   "metadata": {},
   "outputs": [],
   "source": [
    "import tensorflow_addons as tfa\n",
    "\n",
    "def downscale_backbone_grads(grads_and_vars):\n",
    "    \"\"\"Allow to decrease the gradients by 0.1 for the backbone like in the paper.\n",
    "    Decreasing the gradients is equivalent to decreasing the learning rate by 0.1\n",
    "    \"\"\"\n",
    "    variables_backbone = {var.name for var in detr.backbone.trainable_variables}\n",
    "    outputs = []\n",
    "    for g, v in grads_and_vars:\n",
    "        if v.name in variables_backbone:\n",
    "            outputs.append((tf.multiply(g, 0.1), v))\n",
    "        else:\n",
    "            outputs.append((g, v))\n",
    "    return outputs\n",
    "\n",
    "def clip_norm_grads(grads_and_vars):\n",
    "    return [(tf.clip_by_norm(g, 0.1), v) for g, v in grads_and_vars]\n",
    "\n",
    "optimizer = tfa.optimizers.AdamW(\n",
    "    weight_decay=10e-4,\n",
    "    learning_rate=10e-4,\n",
    "    gradient_transformers=[downscale_backbone_grads, clip_norm_grads]\n",
    ")"
   ]
  },
  {
   "cell_type": "code",
   "execution_count": null,
   "metadata": {
    "colab": {},
    "colab_type": "code",
    "id": "r4o3t4PCLagO"
   },
   "outputs": [],
   "source": [
    "from kerod.core.standard_fields import BoxField\n",
    "from kerod.model import factory\n",
    "from kerod.model.factory import KerodModel\n",
    "from tensorflow.keras.callbacks import TensorBoard, ModelCheckpoint\n",
    "\n",
    "# Number of classes of Pascal Voc\n",
    "classes = ds_info.features['objects']['label'].names\n",
    "num_classes = len(classes)\n",
    "\n",
    "detr = factory.build_model(num_classes, name=KerodModel.detr_resnet50)\n",
    "detr.compile(optimizer=optimizer, loss=None)"
   ]
  },
  {
   "cell_type": "markdown",
   "metadata": {},
   "source": [
    "## Graph mode "
   ]
  },
  {
   "cell_type": "code",
   "execution_count": null,
   "metadata": {},
   "outputs": [],
   "source": [
    "detr.fit(ds_train, epochs=200)"
   ]
  },
  {
   "cell_type": "markdown",
   "metadata": {},
   "source": [
    "## Eager mode "
   ]
  },
  {
   "cell_type": "code",
   "execution_count": null,
   "metadata": {},
   "outputs": [],
   "source": [
    "# Allows to iterate eager mode\n",
    "detr.run_eagerly = True\n",
    "\n",
    "ds = [ds for ds in ds_train]\n",
    "for _ in range(300):\n",
    "    detr.train_step(ds[0])"
   ]
  },
  {
   "cell_type": "markdown",
   "metadata": {},
   "source": [
    "## Visualize overfit"
   ]
  },
  {
   "cell_type": "code",
   "execution_count": null,
   "metadata": {
    "scrolled": false
   },
   "outputs": [],
   "source": [
    "from kerod.utils.drawing import BoxDrawer, draw_bounding_boxes\n",
    "\n",
    "drawer = BoxDrawer(classes)\n",
    "\n",
    "for example in ds_train:\n",
    "    boxes, scores, labels = detr.predict_on_batch(example[0])\n",
    "    drawer(\n",
    "        example[0]['images'],\n",
    "        example[0]['images_information'],\n",
    "        boxes,\n",
    "        scores=scores,\n",
    "        labels=labels,\n",
    "        num_valid_detections=[10 for _ in range(batch_size)]\n",
    "    )\n",
    "    draw_bounding_boxes(example[0]['images'][0],\n",
    "                example[1]['bbox'][0],\n",
    "                resize=False)"
   ]
  }
 ],
 "metadata": {
  "accelerator": "GPU",
  "colab": {
   "collapsed_sections": [],
   "name": "overfit-detr.ipynb",
   "provenance": []
  },
  "kernelspec": {
   "display_name": "Python 3",
   "language": "python",
   "name": "python3"
  },
  "language_info": {
   "codemirror_mode": {
    "name": "ipython",
    "version": 3
   },
   "file_extension": ".py",
   "mimetype": "text/x-python",
   "name": "python",
   "nbconvert_exporter": "python",
   "pygments_lexer": "ipython3",
   "version": "3.7.2"
  }
 },
 "nbformat": 4,
 "nbformat_minor": 1
}
